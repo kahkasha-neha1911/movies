{
 "cells": [
  {
   "cell_type": "code",
   "execution_count": 1,
   "id": "8f0e9758",
   "metadata": {},
   "outputs": [
    {
     "data": {
      "text/html": [
       "<div>\n",
       "<style scoped>\n",
       "    .dataframe tbody tr th:only-of-type {\n",
       "        vertical-align: middle;\n",
       "    }\n",
       "\n",
       "    .dataframe tbody tr th {\n",
       "        vertical-align: top;\n",
       "    }\n",
       "\n",
       "    .dataframe thead th {\n",
       "        text-align: right;\n",
       "    }\n",
       "</style>\n",
       "<table border=\"1\" class=\"dataframe\">\n",
       "  <thead>\n",
       "    <tr style=\"text-align: right;\">\n",
       "      <th></th>\n",
       "      <th>movieId</th>\n",
       "      <th>title</th>\n",
       "      <th>genres</th>\n",
       "    </tr>\n",
       "  </thead>\n",
       "  <tbody>\n",
       "    <tr>\n",
       "      <th>0</th>\n",
       "      <td>1</td>\n",
       "      <td>Toy Story (1995)</td>\n",
       "      <td>Adventure|Animation|Children|Comedy|Fantasy</td>\n",
       "    </tr>\n",
       "    <tr>\n",
       "      <th>1</th>\n",
       "      <td>2</td>\n",
       "      <td>Jumanji (1995)</td>\n",
       "      <td>Adventure|Children|Fantasy</td>\n",
       "    </tr>\n",
       "    <tr>\n",
       "      <th>2</th>\n",
       "      <td>3</td>\n",
       "      <td>Grumpier Old Men (1995)</td>\n",
       "      <td>Comedy|Romance</td>\n",
       "    </tr>\n",
       "    <tr>\n",
       "      <th>3</th>\n",
       "      <td>4</td>\n",
       "      <td>Waiting to Exhale (1995)</td>\n",
       "      <td>Comedy|Drama|Romance</td>\n",
       "    </tr>\n",
       "    <tr>\n",
       "      <th>4</th>\n",
       "      <td>5</td>\n",
       "      <td>Father of the Bride Part II (1995)</td>\n",
       "      <td>Comedy</td>\n",
       "    </tr>\n",
       "  </tbody>\n",
       "</table>\n",
       "</div>"
      ],
      "text/plain": [
       "   movieId                               title  \\\n",
       "0        1                    Toy Story (1995)   \n",
       "1        2                      Jumanji (1995)   \n",
       "2        3             Grumpier Old Men (1995)   \n",
       "3        4            Waiting to Exhale (1995)   \n",
       "4        5  Father of the Bride Part II (1995)   \n",
       "\n",
       "                                        genres  \n",
       "0  Adventure|Animation|Children|Comedy|Fantasy  \n",
       "1                   Adventure|Children|Fantasy  \n",
       "2                               Comedy|Romance  \n",
       "3                         Comedy|Drama|Romance  \n",
       "4                                       Comedy  "
      ]
     },
     "execution_count": 1,
     "metadata": {},
     "output_type": "execute_result"
    }
   ],
   "source": [
    "import pandas as pd\n",
    "df = pd.read_csv('movies.csv')\n",
    "df.head()"
   ]
  },
  {
   "cell_type": "code",
   "execution_count": 2,
   "id": "d28abe9c",
   "metadata": {},
   "outputs": [
    {
     "data": {
      "text/html": [
       "<div>\n",
       "<style scoped>\n",
       "    .dataframe tbody tr th:only-of-type {\n",
       "        vertical-align: middle;\n",
       "    }\n",
       "\n",
       "    .dataframe tbody tr th {\n",
       "        vertical-align: top;\n",
       "    }\n",
       "\n",
       "    .dataframe thead th {\n",
       "        text-align: right;\n",
       "    }\n",
       "</style>\n",
       "<table border=\"1\" class=\"dataframe\">\n",
       "  <thead>\n",
       "    <tr style=\"text-align: right;\">\n",
       "      <th></th>\n",
       "      <th>userId</th>\n",
       "      <th>movieId</th>\n",
       "      <th>rating</th>\n",
       "      <th>timestamp</th>\n",
       "    </tr>\n",
       "  </thead>\n",
       "  <tbody>\n",
       "    <tr>\n",
       "      <th>0</th>\n",
       "      <td>1</td>\n",
       "      <td>16</td>\n",
       "      <td>4.0</td>\n",
       "      <td>1217897793</td>\n",
       "    </tr>\n",
       "    <tr>\n",
       "      <th>1</th>\n",
       "      <td>1</td>\n",
       "      <td>24</td>\n",
       "      <td>1.5</td>\n",
       "      <td>1217895807</td>\n",
       "    </tr>\n",
       "    <tr>\n",
       "      <th>2</th>\n",
       "      <td>1</td>\n",
       "      <td>32</td>\n",
       "      <td>4.0</td>\n",
       "      <td>1217896246</td>\n",
       "    </tr>\n",
       "    <tr>\n",
       "      <th>3</th>\n",
       "      <td>1</td>\n",
       "      <td>47</td>\n",
       "      <td>4.0</td>\n",
       "      <td>1217896556</td>\n",
       "    </tr>\n",
       "    <tr>\n",
       "      <th>4</th>\n",
       "      <td>1</td>\n",
       "      <td>50</td>\n",
       "      <td>4.0</td>\n",
       "      <td>1217896523</td>\n",
       "    </tr>\n",
       "  </tbody>\n",
       "</table>\n",
       "</div>"
      ],
      "text/plain": [
       "   userId  movieId  rating   timestamp\n",
       "0       1       16     4.0  1217897793\n",
       "1       1       24     1.5  1217895807\n",
       "2       1       32     4.0  1217896246\n",
       "3       1       47     4.0  1217896556\n",
       "4       1       50     4.0  1217896523"
      ]
     },
     "execution_count": 2,
     "metadata": {},
     "output_type": "execute_result"
    }
   ],
   "source": [
    "df1 = pd.read_csv('ratings.csv')\n",
    "df1.head()"
   ]
  },
  {
   "cell_type": "markdown",
   "id": "b23d7f31",
   "metadata": {},
   "source": [
    "# Merging the two dataset together "
   ]
  },
  {
   "cell_type": "code",
   "execution_count": 3,
   "id": "ec7d6a95",
   "metadata": {},
   "outputs": [
    {
     "data": {
      "text/html": [
       "<div>\n",
       "<style scoped>\n",
       "    .dataframe tbody tr th:only-of-type {\n",
       "        vertical-align: middle;\n",
       "    }\n",
       "\n",
       "    .dataframe tbody tr th {\n",
       "        vertical-align: top;\n",
       "    }\n",
       "\n",
       "    .dataframe thead th {\n",
       "        text-align: right;\n",
       "    }\n",
       "</style>\n",
       "<table border=\"1\" class=\"dataframe\">\n",
       "  <thead>\n",
       "    <tr style=\"text-align: right;\">\n",
       "      <th></th>\n",
       "      <th>movieId</th>\n",
       "      <th>title</th>\n",
       "      <th>genres</th>\n",
       "      <th>userId</th>\n",
       "      <th>rating</th>\n",
       "      <th>timestamp</th>\n",
       "    </tr>\n",
       "  </thead>\n",
       "  <tbody>\n",
       "    <tr>\n",
       "      <th>0</th>\n",
       "      <td>1</td>\n",
       "      <td>Toy Story (1995)</td>\n",
       "      <td>Adventure|Animation|Children|Comedy|Fantasy</td>\n",
       "      <td>2</td>\n",
       "      <td>5.0</td>\n",
       "      <td>859046895</td>\n",
       "    </tr>\n",
       "    <tr>\n",
       "      <th>1</th>\n",
       "      <td>1</td>\n",
       "      <td>Toy Story (1995)</td>\n",
       "      <td>Adventure|Animation|Children|Comedy|Fantasy</td>\n",
       "      <td>5</td>\n",
       "      <td>4.0</td>\n",
       "      <td>1303501039</td>\n",
       "    </tr>\n",
       "    <tr>\n",
       "      <th>2</th>\n",
       "      <td>1</td>\n",
       "      <td>Toy Story (1995)</td>\n",
       "      <td>Adventure|Animation|Children|Comedy|Fantasy</td>\n",
       "      <td>8</td>\n",
       "      <td>5.0</td>\n",
       "      <td>858610933</td>\n",
       "    </tr>\n",
       "    <tr>\n",
       "      <th>3</th>\n",
       "      <td>1</td>\n",
       "      <td>Toy Story (1995)</td>\n",
       "      <td>Adventure|Animation|Children|Comedy|Fantasy</td>\n",
       "      <td>11</td>\n",
       "      <td>4.0</td>\n",
       "      <td>850815810</td>\n",
       "    </tr>\n",
       "    <tr>\n",
       "      <th>4</th>\n",
       "      <td>1</td>\n",
       "      <td>Toy Story (1995)</td>\n",
       "      <td>Adventure|Animation|Children|Comedy|Fantasy</td>\n",
       "      <td>14</td>\n",
       "      <td>4.0</td>\n",
       "      <td>851766286</td>\n",
       "    </tr>\n",
       "  </tbody>\n",
       "</table>\n",
       "</div>"
      ],
      "text/plain": [
       "   movieId             title                                       genres  \\\n",
       "0        1  Toy Story (1995)  Adventure|Animation|Children|Comedy|Fantasy   \n",
       "1        1  Toy Story (1995)  Adventure|Animation|Children|Comedy|Fantasy   \n",
       "2        1  Toy Story (1995)  Adventure|Animation|Children|Comedy|Fantasy   \n",
       "3        1  Toy Story (1995)  Adventure|Animation|Children|Comedy|Fantasy   \n",
       "4        1  Toy Story (1995)  Adventure|Animation|Children|Comedy|Fantasy   \n",
       "\n",
       "   userId  rating   timestamp  \n",
       "0       2     5.0   859046895  \n",
       "1       5     4.0  1303501039  \n",
       "2       8     5.0   858610933  \n",
       "3      11     4.0   850815810  \n",
       "4      14     4.0   851766286  "
      ]
     },
     "execution_count": 3,
     "metadata": {},
     "output_type": "execute_result"
    }
   ],
   "source": [
    "merged_df = pd.merge(df,df1, on = 'movieId', how = 'inner')\n",
    "merged_df.head()"
   ]
  },
  {
   "cell_type": "code",
   "execution_count": 4,
   "id": "85c0d748",
   "metadata": {},
   "outputs": [
    {
     "data": {
      "text/plain": [
       "(105339, 6)"
      ]
     },
     "execution_count": 4,
     "metadata": {},
     "output_type": "execute_result"
    }
   ],
   "source": [
    "merged_df.shape"
   ]
  },
  {
   "cell_type": "code",
   "execution_count": 5,
   "id": "f8fb7976",
   "metadata": {},
   "outputs": [
    {
     "data": {
      "text/plain": [
       "10323"
      ]
     },
     "execution_count": 5,
     "metadata": {},
     "output_type": "execute_result"
    }
   ],
   "source": [
    "merged_df['title'].nunique()"
   ]
  },
  {
   "cell_type": "code",
   "execution_count": 6,
   "id": "b21c99dd",
   "metadata": {},
   "outputs": [
    {
     "data": {
      "text/plain": [
       "Drama                                      7678\n",
       "Comedy                                     6676\n",
       "Comedy|Romance                             3733\n",
       "Drama|Romance                              3407\n",
       "Comedy|Drama                               3101\n",
       "                                           ... \n",
       "Adventure|Drama|Romance|Sci-Fi|Thriller       1\n",
       "Action|Comedy|Drama|Horror                    1\n",
       "Comedy|Crime|Drama|Film-Noir|Thriller         1\n",
       "Adventure|Children|Fantasy|Western            1\n",
       "Action|Fantasy|Mystery                        1\n",
       "Name: genres, Length: 938, dtype: int64"
      ]
     },
     "execution_count": 6,
     "metadata": {},
     "output_type": "execute_result"
    }
   ],
   "source": [
    "merged_df['genres'].value_counts()"
   ]
  },
  {
   "cell_type": "code",
   "execution_count": 7,
   "id": "d66f0d95",
   "metadata": {},
   "outputs": [
    {
     "data": {
      "text/plain": [
       "movieId      0\n",
       "title        0\n",
       "genres       0\n",
       "userId       0\n",
       "rating       0\n",
       "timestamp    0\n",
       "dtype: int64"
      ]
     },
     "execution_count": 7,
     "metadata": {},
     "output_type": "execute_result"
    }
   ],
   "source": [
    "merged_df.isnull().sum()"
   ]
  },
  {
   "cell_type": "code",
   "execution_count": 8,
   "id": "92b29252",
   "metadata": {},
   "outputs": [
    {
     "data": {
      "text/html": [
       "<div>\n",
       "<style scoped>\n",
       "    .dataframe tbody tr th:only-of-type {\n",
       "        vertical-align: middle;\n",
       "    }\n",
       "\n",
       "    .dataframe tbody tr th {\n",
       "        vertical-align: top;\n",
       "    }\n",
       "\n",
       "    .dataframe thead th {\n",
       "        text-align: right;\n",
       "    }\n",
       "</style>\n",
       "<table border=\"1\" class=\"dataframe\">\n",
       "  <thead>\n",
       "    <tr style=\"text-align: right;\">\n",
       "      <th></th>\n",
       "      <th>movieId</th>\n",
       "      <th>userId</th>\n",
       "      <th>rating</th>\n",
       "      <th>timestamp</th>\n",
       "    </tr>\n",
       "  </thead>\n",
       "  <tbody>\n",
       "    <tr>\n",
       "      <th>count</th>\n",
       "      <td>105339.000000</td>\n",
       "      <td>105339.000000</td>\n",
       "      <td>105339.000000</td>\n",
       "      <td>1.053390e+05</td>\n",
       "    </tr>\n",
       "    <tr>\n",
       "      <th>mean</th>\n",
       "      <td>13381.312477</td>\n",
       "      <td>364.924539</td>\n",
       "      <td>3.516850</td>\n",
       "      <td>1.130424e+09</td>\n",
       "    </tr>\n",
       "    <tr>\n",
       "      <th>std</th>\n",
       "      <td>26170.456869</td>\n",
       "      <td>197.486905</td>\n",
       "      <td>1.044872</td>\n",
       "      <td>1.802660e+08</td>\n",
       "    </tr>\n",
       "    <tr>\n",
       "      <th>min</th>\n",
       "      <td>1.000000</td>\n",
       "      <td>1.000000</td>\n",
       "      <td>0.500000</td>\n",
       "      <td>8.285650e+08</td>\n",
       "    </tr>\n",
       "    <tr>\n",
       "      <th>25%</th>\n",
       "      <td>1073.000000</td>\n",
       "      <td>192.000000</td>\n",
       "      <td>3.000000</td>\n",
       "      <td>9.711008e+08</td>\n",
       "    </tr>\n",
       "    <tr>\n",
       "      <th>50%</th>\n",
       "      <td>2497.000000</td>\n",
       "      <td>383.000000</td>\n",
       "      <td>3.500000</td>\n",
       "      <td>1.115154e+09</td>\n",
       "    </tr>\n",
       "    <tr>\n",
       "      <th>75%</th>\n",
       "      <td>5991.000000</td>\n",
       "      <td>557.000000</td>\n",
       "      <td>4.000000</td>\n",
       "      <td>1.275496e+09</td>\n",
       "    </tr>\n",
       "    <tr>\n",
       "      <th>max</th>\n",
       "      <td>149532.000000</td>\n",
       "      <td>668.000000</td>\n",
       "      <td>5.000000</td>\n",
       "      <td>1.452405e+09</td>\n",
       "    </tr>\n",
       "  </tbody>\n",
       "</table>\n",
       "</div>"
      ],
      "text/plain": [
       "             movieId         userId         rating     timestamp\n",
       "count  105339.000000  105339.000000  105339.000000  1.053390e+05\n",
       "mean    13381.312477     364.924539       3.516850  1.130424e+09\n",
       "std     26170.456869     197.486905       1.044872  1.802660e+08\n",
       "min         1.000000       1.000000       0.500000  8.285650e+08\n",
       "25%      1073.000000     192.000000       3.000000  9.711008e+08\n",
       "50%      2497.000000     383.000000       3.500000  1.115154e+09\n",
       "75%      5991.000000     557.000000       4.000000  1.275496e+09\n",
       "max    149532.000000     668.000000       5.000000  1.452405e+09"
      ]
     },
     "execution_count": 8,
     "metadata": {},
     "output_type": "execute_result"
    }
   ],
   "source": [
    "merged_df.describe()"
   ]
  },
  {
   "cell_type": "code",
   "execution_count": 9,
   "id": "7dd77633",
   "metadata": {},
   "outputs": [
    {
     "name": "stdout",
     "output_type": "stream",
     "text": [
      "<class 'pandas.core.frame.DataFrame'>\n",
      "Int64Index: 105339 entries, 0 to 105338\n",
      "Data columns (total 6 columns):\n",
      " #   Column     Non-Null Count   Dtype  \n",
      "---  ------     --------------   -----  \n",
      " 0   movieId    105339 non-null  int64  \n",
      " 1   title      105339 non-null  object \n",
      " 2   genres     105339 non-null  object \n",
      " 3   userId     105339 non-null  int64  \n",
      " 4   rating     105339 non-null  float64\n",
      " 5   timestamp  105339 non-null  int64  \n",
      "dtypes: float64(1), int64(3), object(2)\n",
      "memory usage: 5.6+ MB\n"
     ]
    }
   ],
   "source": [
    "merged_df.info()"
   ]
  },
  {
   "cell_type": "code",
   "execution_count": null,
   "id": "ac1d6853",
   "metadata": {},
   "outputs": [],
   "source": []
  },
  {
   "cell_type": "code",
   "execution_count": null,
   "id": "92ba831e",
   "metadata": {},
   "outputs": [],
   "source": []
  },
  {
   "cell_type": "markdown",
   "id": "f3060618",
   "metadata": {},
   "source": [
    "# Objective: 1 "
   ]
  },
  {
   "cell_type": "markdown",
   "id": "15cc61ee",
   "metadata": {},
   "source": [
    "Create a popularity-basedrecommender system at a genre level. The userwill input a genre (g), minimum ratingthreshold (t) for a movie,and no. ofrecommendations(N) for which it should be recommended top N movies which are most popular within that genre (g) ordered by ratings in descending order where each movie has at least (t) reviews.Example:Input:•Genre (g) : Comedy•Minimumreviewsthreshold(t):100•Num recommendations (N) : 5"
   ]
  },
  {
   "cell_type": "code",
   "execution_count": 10,
   "id": "fde7bacb",
   "metadata": {},
   "outputs": [
    {
     "name": "stdout",
     "output_type": "stream",
     "text": [
      "Enter the genre: comedy\n",
      "Enter the minimum review threshold: 300\n",
      "Enter the number of recommendations (N): 5\n",
      "\n",
      "Top 5 recommended movies in the \"comedy\" genre with at least 300 reviews:\n",
      "       movieId                                       title  rating  userId\n",
      "105          1                            Toy Story (1995)     5.0     303\n",
      "50004     2324  Life Is Beautiful (La Vita è bella) (1997)     5.0     646\n",
      "50003     2324  Life Is Beautiful (La Vita è bella) (1997)     5.0     632\n",
      "50002     2324  Life Is Beautiful (La Vita è bella) (1997)     5.0     631\n",
      "49999     2324  Life Is Beautiful (La Vita è bella) (1997)     5.0     605\n"
     ]
    }
   ],
   "source": [
    "#Take user input for genre (g)\n",
    "genre = input(\"Enter the genre: \")\n",
    "\n",
    "# Take user input for minimum review threshold (t)\n",
    "min_reviews_threshold = int(input(\"Enter the minimum review threshold: \"))\n",
    "\n",
    "#  Take user input for the number of recommendations (N)\n",
    "N = int(input(\"Enter the number of recommendations (N): \"))\n",
    "\n",
    "# Filter the DataFrame based on the specified genre (g)\n",
    "genre_df = merged_df[merged_df['genres'].str.contains(genre, case=False)]\n",
    "\n",
    "# Filter movies based on the minimum review threshold (t)\n",
    "popular_movies = genre_df[genre_df['userId'] >= min_reviews_threshold]\n",
    "\n",
    "# Sort the remaining movies by ratings in descending order\n",
    "sorted_movies = popular_movies.sort_values(by='rating', ascending=False)\n",
    "\n",
    "# Get the top N recommendations\n",
    "top_recommendations = sorted_movies.head(N)\n",
    "\n",
    "# Step 8: Display the recommendations\n",
    "print(f'\\nTop {N} recommended movies in the \"{genre}\" genre with at least {min_reviews_threshold} reviews:')\n",
    "print(top_recommendations[['movieId', 'title', 'rating', 'userId']])\n"
   ]
  },
  {
   "cell_type": "code",
   "execution_count": 11,
   "id": "38c336fc",
   "metadata": {},
   "outputs": [
    {
     "name": "stderr",
     "output_type": "stream",
     "text": [
      "C:\\Users\\kahka\\AppData\\Local\\Temp\\ipykernel_17456\\1063448366.py:2: UserWarning: \n",
      "The dash_core_components package is deprecated. Please replace\n",
      "`import dash_core_components as dcc` with `from dash import dcc`\n",
      "  import dash_core_components as dcc\n",
      "C:\\Users\\kahka\\AppData\\Local\\Temp\\ipykernel_17456\\1063448366.py:3: UserWarning: \n",
      "The dash_html_components package is deprecated. Please replace\n",
      "`import dash_html_components as html` with `from dash import html`\n",
      "  import dash_html_components as html\n"
     ]
    },
    {
     "data": {
      "text/html": [
       "\n",
       "        <iframe\n",
       "            width=\"100%\"\n",
       "            height=\"650\"\n",
       "            src=\"http://127.0.0.1:8050/\"\n",
       "            frameborder=\"0\"\n",
       "            allowfullscreen\n",
       "            \n",
       "        ></iframe>\n",
       "        "
      ],
      "text/plain": [
       "<IPython.lib.display.IFrame at 0x18985bc7d30>"
      ]
     },
     "metadata": {},
     "output_type": "display_data"
    }
   ],
   "source": [
    "import dash\n",
    "import dash_core_components as dcc\n",
    "import dash_html_components as html\n",
    "from dash.dependencies import Input, Output\n",
    "import pandas as pd\n",
    "\n",
    "# Assuming 'merged_df' is your merged DataFrame\n",
    "\n",
    "# Step 1: Create a Dash web application\n",
    "app = dash.Dash(__name__)\n",
    "\n",
    "# Step 2: Define the layout of the dashboard\n",
    "app.layout = html.Div([\n",
    "    html.H1(\"Movie Recommendations Dashboard\"),\n",
    "    \n",
    "    # Input components\n",
    "    html.Label(\"Select Genre:\"),\n",
    "    dcc.Input(id='genre-input', type='text', value='Comedy'),\n",
    "    \n",
    "    html.Label(\"Minimum Review Threshold:\"),\n",
    "    dcc.Input(id='min-reviews-input', type='number', value=100),\n",
    "    \n",
    "    html.Label(\"Number of Recommendations:\"),\n",
    "    dcc.Input(id='num-recommendations-input', type='number', value=5),\n",
    "    \n",
    "    # Output component to display recommendations\n",
    "    html.Div(id='output-recommendations'),\n",
    "])\n",
    "\n",
    "# Step 3: Define the callback to update recommendations based on user input\n",
    "@app.callback(\n",
    "    Output('output-recommendations', 'children'),\n",
    "    [Input('genre-input', 'value'),\n",
    "     Input('min-reviews-input', 'value'),\n",
    "     Input('num-recommendations-input', 'value')]\n",
    ")\n",
    "def update_recommendations(genre, min_reviews_threshold, N):\n",
    "    genre_df = merged_df[merged_df['genres'].str.contains(genre, case=False)]\n",
    "    popular_movies = genre_df[genre_df['userId'] >= min_reviews_threshold]\n",
    "    sorted_movies = popular_movies.sort_values(by='rating', ascending=False)\n",
    "    top_recommendations = sorted_movies.head(N)\n",
    "    \n",
    "    recommendations_table = html.Table(\n",
    "        # Header\n",
    "        [html.Tr([html.Th(col) for col in top_recommendations.columns])] +\n",
    "        # Body\n",
    "        [html.Tr([html.Td(top_recommendations.iloc[i][col]) for col in top_recommendations.columns]) for i in range(len(top_recommendations))]\n",
    "    )\n",
    "    \n",
    "    return recommendations_table\n",
    "\n",
    "# Step 4: Run the application\n",
    "if __name__ == '__main__':\n",
    "    app.run_server(debug=True)\n"
   ]
  },
  {
   "cell_type": "code",
   "execution_count": 12,
   "id": "061b921d",
   "metadata": {},
   "outputs": [
    {
     "name": "stdout",
     "output_type": "stream",
     "text": [
      "Enter the genre: action\n",
      "Enter the minimum review threshold: 500\n",
      "Enter the number of recommendations (N): 5\n",
      "\n",
      "Top 5 recommended movies in the \"action\" genre with at least 500 reviews:\n",
      "       movieId                                   title  rating  userId\n",
      "36279     1374  Star Trek II: The Wrath of Khan (1982)     5.0     560\n",
      "20805      736                          Twister (1996)     5.0     572\n",
      "20799      736                          Twister (1996)     5.0     552\n",
      "97720    68205              Crank: High Voltage (2009)     5.0     599\n",
      "20678      733                        Rock, The (1996)     5.0     664\n"
     ]
    }
   ],
   "source": [
    "\n",
    "\n",
    "# Take user input for genre (g)\n",
    "genre = input(\"Enter the genre: \")\n",
    "\n",
    "# Take user input for minimum review threshold (t)\n",
    "min_reviews_threshold = int(input(\"Enter the minimum review threshold: \"))\n",
    "\n",
    "# Take user input for the number of recommendations (N)\n",
    "N = int(input(\"Enter the number of recommendations (N): \"))\n",
    "\n",
    "# Filter the DataFrame based on the specified genre (g)\n",
    "genre_df = merged_df[merged_df['genres'].str.contains(genre, case=False)]\n",
    "\n",
    "# Filter movies based on the minimum review threshold (t)\n",
    "popular_movies = genre_df[genre_df['userId'] >= min_reviews_threshold]\n",
    "\n",
    "# Sort the remaining movies by ratings in descending order\n",
    "sorted_movies = popular_movies.sort_values(by='rating', ascending=False)\n",
    "\n",
    "# Get the top N recommendations\n",
    "top_recommendations = sorted_movies.head(N)\n",
    "\n",
    "# Display the recommendations\n",
    "print(f'\\nTop {N} recommended movies in the \"{genre}\" genre with at least {min_reviews_threshold} reviews:')\n",
    "print(top_recommendations[['movieId', 'title', 'rating', 'userId']])\n"
   ]
  },
  {
   "cell_type": "code",
   "execution_count": null,
   "id": "cd972d17",
   "metadata": {},
   "outputs": [],
   "source": []
  },
  {
   "cell_type": "code",
   "execution_count": 14,
   "id": "b224ff1f",
   "metadata": {},
   "outputs": [
    {
     "name": "stdout",
     "output_type": "stream",
     "text": [
      "Enter the target user ID (u): 200\n",
      "\n",
      "Top 5 movie recommendations for user 200:\n",
      "movieId\n",
      "590    2.85\n",
      "150    2.65\n",
      "110    2.45\n",
      "349    2.10\n",
      "592    1.90\n",
      "dtype: float64\n"
     ]
    }
   ],
   "source": [
    "import pandas as pd\n",
    "from sklearn.metrics.pairwise import cosine_similarity\n",
    "from sklearn.neighbors import NearestNeighbors\n",
    "\n",
    "\n",
    "# Step 1: Create a user-item matrix\n",
    "user_item_matrix = merged_df.pivot(index='userId', columns='movieId', values='rating').fillna(0)\n",
    "\n",
    "# Step 2: Create a similarity matrix between users using cosine similarity\n",
    "user_similarity = cosine_similarity(user_item_matrix)\n",
    "\n",
    "# Step 3: Create a Nearest Neighbors model\n",
    "k_neighbors = 10  # Adjust the number of neighbors 'K' as needed\n",
    "model_knn = NearestNeighbors(metric='cosine', algorithm='brute', n_neighbors=k_neighbors)\n",
    "model_knn.fit(user_item_matrix)\n",
    "\n",
    "# Step 4: Function to get movie recommendations based on similar users\n",
    "def get_movie_recommendations(user_id, N=5):\n",
    "    # Find K similar users\n",
    "    user_index = user_item_matrix.index.get_loc(user_id)\n",
    "    distances, indices = model_knn.kneighbors(user_item_matrix.iloc[user_index].values.reshape(1, -1))\n",
    "\n",
    "    # Get the movies the similar users have liked\n",
    "    similar_users_movies = user_item_matrix.iloc[indices.flatten()]\n",
    "\n",
    "    # Aggregate ratings from similar users\n",
    "    aggregated_ratings = similar_users_movies.mean(axis=0)\n",
    "\n",
    "    # Filter out movies the target user has already rated\n",
    "    target_user_ratings = user_item_matrix.loc[user_id]\n",
    "    unrated_movies = target_user_ratings[target_user_ratings == 0].index\n",
    "\n",
    "    # Sort and get the top N recommendations\n",
    "    recommendations = aggregated_ratings[unrated_movies].sort_values(ascending=False).head(N)\n",
    "\n",
    "    return recommendations\n",
    "\n",
    "# Step 5: Get user input for the target user (u)\n",
    "target_user_id = int(input(\"Enter the target user ID (u): \"))\n",
    "\n",
    "# Step 6: Get recommendations based on similar users\n",
    "recommendations = get_movie_recommendations(target_user_id, N=5)\n",
    "\n",
    "# Step 7: Display recommendations\n",
    "print(f\"\\nTop 5 movie recommendations for user {target_user_id}:\")\n",
    "print(recommendations)\n"
   ]
  },
  {
   "cell_type": "code",
   "execution_count": null,
   "id": "c57c9b20",
   "metadata": {},
   "outputs": [],
   "source": []
  },
  {
   "cell_type": "code",
   "execution_count": null,
   "id": "e108397b",
   "metadata": {},
   "outputs": [],
   "source": []
  },
  {
   "cell_type": "code",
   "execution_count": null,
   "id": "4d1fb43c",
   "metadata": {},
   "outputs": [],
   "source": []
  },
  {
   "cell_type": "code",
   "execution_count": null,
   "id": "0defcff5",
   "metadata": {},
   "outputs": [],
   "source": []
  },
  {
   "cell_type": "code",
   "execution_count": null,
   "id": "4460300a",
   "metadata": {},
   "outputs": [],
   "source": []
  }
 ],
 "metadata": {
  "kernelspec": {
   "display_name": "Python 3 (ipykernel)",
   "language": "python",
   "name": "python3"
  },
  "language_info": {
   "codemirror_mode": {
    "name": "ipython",
    "version": 3
   },
   "file_extension": ".py",
   "mimetype": "text/x-python",
   "name": "python",
   "nbconvert_exporter": "python",
   "pygments_lexer": "ipython3",
   "version": "3.10.9"
  }
 },
 "nbformat": 4,
 "nbformat_minor": 5
}
